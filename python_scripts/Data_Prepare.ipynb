{
 "cells": [
  {
   "cell_type": "code",
   "id": "initial_id",
   "metadata": {
    "collapsed": true,
    "jupyter": {
     "is_executing": true
    }
   },
   "source": [
    "from sklearn.feature_extraction.text import TfidfVectorizer\n",
    "import numpy as np\n",
    "import json\n",
    "\n",
    "\n",
    "with open(\"data/News_Category_Dataset_v3.json/News_Category_Dataset_v3.json\", \"r\") as news_data_set_json:\n",
    "    news_data_set = json.load(news_data_set_json)\n",
    "\n",
    "# Extract categories and descriptions\n",
    "news_data_set = news_data_set[\"data\"]\n",
    "categories = np.array([item[\"category\"] for item in news_data_set])\n",
    "descriptions = [item[\"short_description\"] for item in news_data_set]\n",
    "\n",
    "tf_idf = TfidfVectorizer(max_features=5)\n",
    "vector_description = tf_idf.fit_transform(descriptions).toarray()\n",
    "\n",
    "full_dataset = np.column_stack((vector_description,categories))\n",
    "np.savetxt(\"newsdata_set.csv\", full_dataset, delimiter=\",\",fmt=\"%s\")\n"
   ],
   "outputs": [],
   "execution_count": null
  },
  {
   "metadata": {},
   "cell_type": "code",
   "outputs": [],
   "execution_count": null,
   "source": "",
   "id": "802198c51986a2ed"
  }
 ],
 "metadata": {
  "kernelspec": {
   "display_name": "Python 3",
   "language": "python",
   "name": "python3"
  },
  "language_info": {
   "codemirror_mode": {
    "name": "ipython",
    "version": 2
   },
   "file_extension": ".py",
   "mimetype": "text/x-python",
   "name": "python",
   "nbconvert_exporter": "python",
   "pygments_lexer": "ipython2",
   "version": "2.7.6"
  }
 },
 "nbformat": 4,
 "nbformat_minor": 5
}
